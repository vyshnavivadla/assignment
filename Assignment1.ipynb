{
 "cells": [
  {
   "cell_type": "code",
   "execution_count": 6,
   "id": "f7dba7b5",
   "metadata": {},
   "outputs": [
    {
     "name": "stdout",
     "output_type": "stream",
     "text": [
      "5 <class 'int'>\n",
      "6 <class 'int'>\n",
      "hello <class 'str'>\n",
      "True <class 'bool'>\n"
     ]
    }
   ],
   "source": [
    "x=5\n",
    "y=6\n",
    "z=\"hello\"\n",
    "w=True\n",
    "print(x,type(x))\n",
    "print(y,type(y))\n",
    "print(z,type(z))\n",
    "print(w,type(w))"
   ]
  },
  {
   "cell_type": "code",
   "execution_count": null,
   "id": "350d7f10",
   "metadata": {},
   "outputs": [],
   "source": []
  }
 ],
 "metadata": {
  "kernelspec": {
   "display_name": "Python 3 (ipykernel)",
   "language": "python",
   "name": "python3"
  },
  "language_info": {
   "codemirror_mode": {
    "name": "ipython",
    "version": 3
   },
   "file_extension": ".py",
   "mimetype": "text/x-python",
   "name": "python",
   "nbconvert_exporter": "python",
   "pygments_lexer": "ipython3",
   "version": "3.10.0"
  }
 },
 "nbformat": 4,
 "nbformat_minor": 5
}
