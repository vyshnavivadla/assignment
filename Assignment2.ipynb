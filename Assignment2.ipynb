{
 "cells": [
  {
   "cell_type": "code",
   "execution_count": 1,
   "id": "3e08e975",
   "metadata": {},
   "outputs": [
    {
     "name": "stdout",
     "output_type": "stream",
     "text": [
      "Accessing elements of List:\n",
      "2\n",
      "4\n",
      "Accessing elements of Tuple:\n",
      "Cherry\n",
      "Apple\n",
      "Accessing elements of Dictionary:\n",
      "France\n",
      "Black\n"
     ]
    }
   ],
   "source": [
    "nums=[1,2,3,4,5]\n",
    "fruits=('Apple',\"Banana\",\"Cherry\",\"Mango\",\"Dragon\")\n",
    "dictionary1={'fruit':'Strawberry','vegetable':'Brinjal','color':'Black','city':'France','educatiion':'Engineering'}\n",
    "print(\"Accessing elements of List:\")\n",
    "print(nums[1])\n",
    "print(nums[-2])\n",
    "print(\"Accessing elements of Tuple:\")\n",
    "print(fruits[-3])\n",
    "print(fruits[0])\n",
    "print(\"Accessing elements of Dictionary:\")\n",
    "print(dictionary1[\"city\"])\n",
    "print(dictionary1[\"color\"])"
   ]
  },
  {
   "cell_type": "code",
   "execution_count": null,
   "id": "bc8659c2",
   "metadata": {},
   "outputs": [],
   "source": []
  }
 ],
 "metadata": {
  "kernelspec": {
   "display_name": "Python 3 (ipykernel)",
   "language": "python",
   "name": "python3"
  },
  "language_info": {
   "codemirror_mode": {
    "name": "ipython",
    "version": 3
   },
   "file_extension": ".py",
   "mimetype": "text/x-python",
   "name": "python",
   "nbconvert_exporter": "python",
   "pygments_lexer": "ipython3",
   "version": "3.10.0"
  }
 },
 "nbformat": 4,
 "nbformat_minor": 5
}
