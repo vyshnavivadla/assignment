{
 "cells": [
  {
   "cell_type": "code",
   "execution_count": 1,
   "id": "9069dca0",
   "metadata": {},
   "outputs": [
    {
     "name": "stdout",
     "output_type": "stream",
     "text": [
      "Enter positive integer: 6\n",
      "The sum of all even numbers between 1 and 6: 12\n"
     ]
    }
   ],
   "source": [
    "num=int(input(\"Enter positive integer: \"))\n",
    "sum=0\n",
    "for i in range(1,num+1):\n",
    "    if(i%2==0):\n",
    "        sum+=i\n",
    "print(f\"The sum of all even numbers between 1 and {num}: {sum}\")"
   ]
  },
  {
   "cell_type": "code",
   "execution_count": null,
   "id": "69d264ec",
   "metadata": {},
   "outputs": [],
   "source": []
  }
 ],
 "metadata": {
  "kernelspec": {
   "display_name": "Python 3 (ipykernel)",
   "language": "python",
   "name": "python3"
  },
  "language_info": {
   "codemirror_mode": {
    "name": "ipython",
    "version": 3
   },
   "file_extension": ".py",
   "mimetype": "text/x-python",
   "name": "python",
   "nbconvert_exporter": "python",
   "pygments_lexer": "ipython3",
   "version": "3.10.0"
  }
 },
 "nbformat": 4,
 "nbformat_minor": 5
}
